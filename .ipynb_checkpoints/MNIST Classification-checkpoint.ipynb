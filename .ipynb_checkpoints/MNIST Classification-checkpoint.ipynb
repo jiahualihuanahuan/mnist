{
 "cells": [
  {
   "cell_type": "code",
   "execution_count": 1,
   "metadata": {},
   "outputs": [
    {
     "name": "stdout",
     "output_type": "stream",
     "text": [
      "0.23.1\n"
     ]
    }
   ],
   "source": [
    "# check sklearn version\n",
    "import sklearn\n",
    "print(sklearn.__version__)"
   ]
  },
  {
   "cell_type": "code",
   "execution_count": null,
   "metadata": {},
   "outputs": [],
   "source": [
    "from sklearn.datasets import fetch_openml\n",
    "mnist = fetch_openml('mnist_784', version=1)\n",
    "mnist.keys()\n",
    "X, y = mnist[\"data\"], mnist[\"target\"]"
   ]
  },
  {
   "cell_type": "code",
   "execution_count": 3,
   "metadata": {},
   "outputs": [
    {
     "data": {
      "text/plain": [
       "(70000, 784)"
      ]
     },
     "execution_count": 3,
     "metadata": {},
     "output_type": "execute_result"
    }
   ],
   "source": [
    "X.shape"
   ]
  },
  {
   "cell_type": "code",
   "execution_count": 4,
   "metadata": {},
   "outputs": [
    {
     "data": {
      "text/plain": [
       "(70000,)"
      ]
     },
     "execution_count": 4,
     "metadata": {},
     "output_type": "execute_result"
    }
   ],
   "source": [
    "y.shape"
   ]
  },
  {
   "cell_type": "code",
   "execution_count": 5,
   "metadata": {},
   "outputs": [
    {
     "name": "stdout",
     "output_type": "stream",
     "text": [
      "Start Time = 13:52:48\n",
      "--- 12.951472759246826 seconds ---\n",
      "End Time = 13:53:01\n"
     ]
    }
   ],
   "source": [
    "import time\n",
    "start_time = time.time()   \n",
    "from datetime import datetime\n",
    "now = datetime.now()\n",
    "current_time = now.strftime(\"%H:%M:%S\")\n",
    "print(\"Start Time =\", current_time)\n",
    "\n",
    "# standardize the data as z-scores\n",
    "from sklearn.preprocessing import StandardScaler\n",
    "scaler = StandardScaler()\n",
    "X_scaled = scaler.fit_transform(X.astype('float64'))\n",
    "\n",
    "\n",
    "# split training and test sets\n",
    "from sklearn.model_selection import train_test_split\n",
    "X_train, X_test, y_train, y_test = train_test_split(X_scaled, y, test_size=0.33, random_state=42)\n",
    "\n",
    "print(\"--- %s seconds ---\" % (time.time() - start_time))\n",
    "now = datetime.now()\n",
    "current_time = now.strftime(\"%H:%M:%S\")\n",
    "print(\"End Time =\", current_time)"
   ]
  },
  {
   "cell_type": "code",
   "execution_count": 8,
   "metadata": {},
   "outputs": [
    {
     "name": "stdout",
     "output_type": "stream",
     "text": [
      "Start Time = 14:10:04\n",
      "start fitting MLP Model\n",
      "start making prediction\n",
      "start calculating accuracy score\n",
      "MLP Model Accuracy: 95.38%\n",
      "--- 160.8486168384552 seconds ---\n",
      "End Time = 14:12:45\n"
     ]
    }
   ],
   "source": [
    "# MLP\n",
    "import time\n",
    "start_time = time.time()   \n",
    "from datetime import datetime\n",
    "now = datetime.now()\n",
    "current_time = now.strftime(\"%H:%M:%S\")\n",
    "print(\"Start Time =\", current_time)\n",
    "print('start fitting MLP Model')    \n",
    "from sklearn.neural_network import MLPClassifier\n",
    "mlp_clf = MLPClassifier(hidden_layer_sizes=(28, 14,), random_state=1)\n",
    "mlp_clf.fit(X_train, y_train)\n",
    "\n",
    "mlp_clf.fit(X_train, y_train)\n",
    "print('start making prediction') \n",
    "y_test_pred_mlp = mlp_clf.predict(X_test)\n",
    "print('start calculating accuracy score') \n",
    "from sklearn.metrics import accuracy_score  \n",
    "mlp_accuracy = accuracy_score(y_test, y_test_pred_mlp)\n",
    "print(\"MLP Model Accuracy: %.2f%%\" % (mlp_accuracy * 100.0))\n",
    "\n",
    "# save the model to disk\n",
    "import pickle\n",
    "filename = '/Users/jiahuali1991/Dropbox/Machine Learning/Data/mnist/MLP_model_mnist.sav'\n",
    "pickle.dump(mlp_clf, open(filename, 'wb'))\n",
    "\n",
    "print(\"--- %s seconds ---\" % (time.time() - start_time))\n",
    "now = datetime.now()\n",
    "current_time = now.strftime(\"%H:%M:%S\")\n",
    "print(\"End Time =\", current_time)"
   ]
  },
  {
   "cell_type": "code",
   "execution_count": 12,
   "metadata": {
    "scrolled": true
   },
   "outputs": [
    {
     "name": "stdout",
     "output_type": "stream",
     "text": [
      "Start Time = 10:58:26\n",
      "Model: \"sequential_3\"\n",
      "_________________________________________________________________\n",
      "Layer (type)                 Output Shape              Param #   \n",
      "=================================================================\n",
      "flatten_3 (Flatten)          (None, 784)               0         \n",
      "_________________________________________________________________\n",
      "dense_21 (Dense)             (None, 512)               401920    \n",
      "_________________________________________________________________\n",
      "dense_22 (Dense)             (None, 256)               131328    \n",
      "_________________________________________________________________\n",
      "dense_23 (Dense)             (None, 128)               32896     \n",
      "_________________________________________________________________\n",
      "dense_24 (Dense)             (None, 64)                8256      \n",
      "_________________________________________________________________\n",
      "dense_25 (Dense)             (None, 32)                2080      \n",
      "_________________________________________________________________\n",
      "dense_26 (Dense)             (None, 16)                528       \n",
      "_________________________________________________________________\n",
      "dense_27 (Dense)             (None, 10)                170       \n",
      "=================================================================\n",
      "Total params: 577,178\n",
      "Trainable params: 577,178\n",
      "Non-trainable params: 0\n",
      "_________________________________________________________________\n",
      "None\n",
      "Train on 46900 samples, validate on 23100 samples\n",
      "Epoch 1/500\n",
      "46900/46900 [==============================] - 15s 311us/sample - loss: 0.3199 - acc: 0.9118 - val_loss: 0.1881 - val_acc: 0.9468\n",
      "Epoch 2/500\n",
      "46900/46900 [==============================] - 14s 294us/sample - loss: 0.1488 - acc: 0.9591 - val_loss: 0.1566 - val_acc: 0.9562\n",
      "Epoch 3/500\n",
      "46900/46900 [==============================] - 17s 358us/sample - loss: 0.1066 - acc: 0.9692 - val_loss: 0.1497 - val_acc: 0.9613\n",
      "Epoch 4/500\n",
      "46900/46900 [==============================] - 15s 312us/sample - loss: 0.0803 - acc: 0.9770 - val_loss: 0.1657 - val_acc: 0.9617\n",
      "Epoch 5/500\n",
      "46900/46900 [==============================] - 15s 318us/sample - loss: 0.0668 - acc: 0.9809 - val_loss: 0.1580 - val_acc: 0.9616\n",
      "Epoch 6/500\n",
      "46900/46900 [==============================] - 14s 293us/sample - loss: 0.0608 - acc: 0.9832 - val_loss: 0.1304 - val_acc: 0.9676\n",
      "Epoch 7/500\n",
      "46900/46900 [==============================] - 16s 331us/sample - loss: 0.0544 - acc: 0.9846 - val_loss: 0.1388 - val_acc: 0.9689\n",
      "Epoch 8/500\n",
      "46900/46900 [==============================] - 14s 292us/sample - loss: 0.0449 - acc: 0.9876 - val_loss: 0.1360 - val_acc: 0.9708\n",
      "Epoch 9/500\n",
      "46900/46900 [==============================] - 13s 278us/sample - loss: 0.0411 - acc: 0.9892 - val_loss: 0.1447 - val_acc: 0.9682\n",
      "Epoch 10/500\n",
      "46900/46900 [==============================] - 14s 295us/sample - loss: 0.0343 - acc: 0.9902 - val_loss: 0.1762 - val_acc: 0.9689\n",
      "Epoch 11/500\n",
      "46900/46900 [==============================] - 15s 314us/sample - loss: 0.0309 - acc: 0.9917 - val_loss: 0.1734 - val_acc: 0.9691\n",
      "Epoch 12/500\n",
      "46900/46900 [==============================] - 13s 286us/sample - loss: 0.0314 - acc: 0.9919 - val_loss: 0.1569 - val_acc: 0.9700\n",
      "Epoch 13/500\n",
      "46900/46900 [==============================] - 14s 304us/sample - loss: 0.0346 - acc: 0.9919 - val_loss: 0.1875 - val_acc: 0.9675\n",
      "Epoch 14/500\n",
      "46900/46900 [==============================] - 14s 290us/sample - loss: 0.0289 - acc: 0.9936 - val_loss: 0.1574 - val_acc: 0.9731\n",
      "Epoch 15/500\n",
      "46900/46900 [==============================] - 13s 288us/sample - loss: 0.0247 - acc: 0.9941 - val_loss: 0.1419 - val_acc: 0.9721\n",
      "Epoch 16/500\n",
      "46900/46900 [==============================] - 12s 264us/sample - loss: 0.0247 - acc: 0.9940 - val_loss: 0.1816 - val_acc: 0.9660\n",
      "Epoch 17/500\n",
      "46900/46900 [==============================] - 14s 295us/sample - loss: 0.0253 - acc: 0.9939 - val_loss: 0.1940 - val_acc: 0.9712\n",
      "Epoch 18/500\n",
      "46900/46900 [==============================] - 14s 297us/sample - loss: 0.0247 - acc: 0.9945 - val_loss: 0.1644 - val_acc: 0.9740\n",
      "Epoch 19/500\n",
      "46900/46900 [==============================] - 14s 308us/sample - loss: 0.0193 - acc: 0.9956 - val_loss: 0.1623 - val_acc: 0.9725\n",
      "Epoch 20/500\n",
      "46900/46900 [==============================] - 15s 313us/sample - loss: 0.0291 - acc: 0.9940 - val_loss: 0.1665 - val_acc: 0.9723\n",
      "Epoch 21/500\n",
      "46900/46900 [==============================] - 15s 330us/sample - loss: 0.0201 - acc: 0.9953 - val_loss: 0.1724 - val_acc: 0.9740\n",
      "Deep Learning Model Accuracy: 0.00%\n",
      "--- 303.55913615226746 seconds ---\n",
      "End Time = 11:03:29\n"
     ]
    }
   ],
   "source": [
    "# deep learning on original data\n",
    "import time\n",
    "start_time = time.time()   \n",
    "from datetime import datetime\n",
    "now = datetime.now()\n",
    "current_time = now.strftime(\"%H:%M:%S\")\n",
    "print(\"Start Time =\", current_time)\n",
    "\n",
    "import tensorflow as tf\n",
    "from tensorflow import keras\n",
    "tf.__version__\n",
    "keras.__version__\n",
    "\n",
    "model = keras.models.Sequential()\n",
    "model.add(keras.layers.Flatten(input_shape=[784]))\n",
    "model.add(keras.layers.Dense(512, activation=\"relu\"))\n",
    "model.add(keras.layers.Dense(256, activation=\"relu\"))\n",
    "model.add(keras.layers.Dense(128, activation=\"relu\"))\n",
    "model.add(keras.layers.Dense(64, activation=\"relu\"))\n",
    "model.add(keras.layers.Dense(32, activation=\"relu\"))\n",
    "model.add(keras.layers.Dense(16, activation=\"relu\"))\n",
    "model.add(keras.layers.Dense(10, activation=\"softmax\"))\n",
    "\n",
    "print(model.summary())\n",
    "\n",
    "model.compile(loss=\"sparse_categorical_crossentropy\", optimizer=\"adam\", metrics=[\"acc\"]) # sgd\n",
    "\n",
    "filepath = '/Users/jiahuali1991/Dropbox/Machine Learning/Data/mnist/DeepNet_Model_mnist.h5'\n",
    "# model.load_weights(filepath) #load previously trained model\n",
    "\n",
    "\n",
    "history = model.fit(X_train, y_train, epochs=500, batch_size = 28, verbose = 1,\n",
    "                    validation_data=(X_test, y_test),\n",
    "                   callbacks = [\n",
    "        keras.callbacks.ModelCheckpoint(filepath, monitor='val_loss', verbose=0, save_best_only=True, mode='auto'),\n",
    "        keras.callbacks.EarlyStopping(monitor='val_loss', patience=15, verbose=0, mode='auto')\n",
    "    ])\n",
    "\n",
    "# we re-load the best weights once training is finished\n",
    "model.load_weights(filepath)\n",
    "'''\n",
    "import matplotlib.pyplot as plt\n",
    "pd.DataFrame(history.history).plot(figsize=(8, 5))\n",
    "plt.grid(True)\n",
    "plt.gca().set_ylim(0, 1) # set the vertical range to [0-1]\n",
    "plt.show()\n",
    "'''\n",
    "\n",
    "y_test_pred_dl = model.predict_classes(X_test)\n",
    "# model.evaluate(X_fft_test, y_test)\n",
    "from sklearn.metrics import accuracy_score  \n",
    "print(\"Deep Learning Model Accuracy: %.2f%%\" % (accuracy_score(y_test, y_test_pred_dl) * 100.0))\n",
    "\n",
    "print(\"--- %s seconds ---\" % (time.time() - start_time))\n",
    "now = datetime.now()\n",
    "current_time = now.strftime(\"%H:%M:%S\")\n",
    "print(\"End Time =\", current_time)"
   ]
  },
  {
   "cell_type": "code",
   "execution_count": null,
   "metadata": {},
   "outputs": [],
   "source": [
    "y_test_pred_dl"
   ]
  },
  {
   "cell_type": "code",
   "execution_count": 13,
   "metadata": {},
   "outputs": [
    {
     "name": "stdout",
     "output_type": "stream",
     "text": [
      "Start Time = 11:03:29\n",
      "start fitting Random Forest Model\n"
     ]
    },
    {
     "name": "stderr",
     "output_type": "stream",
     "text": [
      "/opt/anaconda3/lib/python3.7/site-packages/sklearn/ensemble/forest.py:245: FutureWarning: The default value of n_estimators will change from 10 in version 0.20 to 100 in 0.22.\n",
      "  \"10 in version 0.20 to 100 in 0.22.\", FutureWarning)\n"
     ]
    },
    {
     "name": "stdout",
     "output_type": "stream",
     "text": [
      "start making prediction\n",
      "start calculating accuracy score\n",
      "Random Forest Model Accuracy: 94.17%\n",
      "--- 4.685892105102539 seconds ---\n",
      "End Time = 11:03:34\n"
     ]
    }
   ],
   "source": [
    "# Random Forest on original data\n",
    "import time\n",
    "start_time = time.time()   \n",
    "from datetime import datetime\n",
    "now = datetime.now()\n",
    "current_time = now.strftime(\"%H:%M:%S\")\n",
    "print(\"Start Time =\", current_time)\n",
    "print('start fitting Random Forest Model')    \n",
    "from sklearn.ensemble import RandomForestClassifier\n",
    "rf_clf = RandomForestClassifier(n_jobs=-1)\n",
    "rf_clf.fit(X_train, y_train)\n",
    "print('start making prediction') \n",
    "y_test_pred_rf = rf_clf.predict(X_test)\n",
    "print('start calculating accuracy score') \n",
    "from sklearn.metrics import accuracy_score  \n",
    "rf_accuracy = accuracy_score(y_test, y_test_pred_rf)\n",
    "print(\"Random Forest Model Accuracy: %.2f%%\" % (rf_accuracy * 100.0))\n",
    "\n",
    "# save the model to disk\n",
    "import pickle\n",
    "filename = '/Users/jiahuali1991/Dropbox/Machine Learning/Data/mnist/RandomForest_model_mnist.sav'\n",
    "pickle.dump(rf_clf, open(filename, 'wb'))\n",
    "\n",
    "print(\"--- %s seconds ---\" % (time.time() - start_time))\n",
    "now = datetime.now()\n",
    "current_time = now.strftime(\"%H:%M:%S\")\n",
    "print(\"End Time =\", current_time)"
   ]
  },
  {
   "cell_type": "code",
   "execution_count": 14,
   "metadata": {},
   "outputs": [
    {
     "name": "stdout",
     "output_type": "stream",
     "text": [
      "Start Time = 11:03:34\n",
      "start fitting CART Model\n",
      "start making prediction\n",
      "start calculating accuracy score\n",
      "CART Model Accuracy: 86.40%\n",
      "--- 22.003356218338013 seconds ---\n",
      "End Time = 11:03:56\n"
     ]
    }
   ],
   "source": [
    "# Classification and Regression Trees (CART) on original data\n",
    "import time\n",
    "start_time = time.time()   \n",
    "from datetime import datetime\n",
    "now = datetime.now()\n",
    "current_time = now.strftime(\"%H:%M:%S\")\n",
    "print(\"Start Time =\", current_time)\n",
    "print('start fitting CART Model')    \n",
    "from sklearn.tree import DecisionTreeClassifier\n",
    "dt_clf = DecisionTreeClassifier(random_state=0)\n",
    "dt_clf.fit(X_train, y_train)\n",
    "print('start making prediction') \n",
    "y_test_pred_dt = dt_clf.predict(X_test)\n",
    "print('start calculating accuracy score') \n",
    "from sklearn.metrics import accuracy_score  \n",
    "dt_accuracy = accuracy_score(y_test, y_test_pred_dt)\n",
    "print(\"CART Model Accuracy: %.2f%%\" % (dt_accuracy * 100.0))\n",
    "# save the model to disk\n",
    "import pickle\n",
    "filename = '/Users/jiahuali1991/Dropbox/Machine Learning/Data/mnist/CART_model_mnist.sav'\n",
    "pickle.dump(dt_clf, open(filename, 'wb'))\n",
    "print(\"--- %s seconds ---\" % (time.time() - start_time))\n",
    "now = datetime.now()\n",
    "current_time = now.strftime(\"%H:%M:%S\")\n",
    "print(\"End Time =\", current_time)"
   ]
  },
  {
   "cell_type": "code",
   "execution_count": 15,
   "metadata": {},
   "outputs": [
    {
     "name": "stdout",
     "output_type": "stream",
     "text": [
      "Start Time = 11:03:56\n",
      "start fitting KNN Model\n",
      "start making prediction\n",
      "start calculating accuracy score\n",
      "KNN Model Accuracy: 94.29%\n",
      "--- 754.6038410663605 seconds ---\n",
      "End Time = 11:16:30\n"
     ]
    }
   ],
   "source": [
    "# KNN on original data\n",
    "import time\n",
    "start_time = time.time()   \n",
    "from datetime import datetime\n",
    "now = datetime.now()\n",
    "current_time = now.strftime(\"%H:%M:%S\")\n",
    "print(\"Start Time =\", current_time)\n",
    "print('start fitting KNN Model')    \n",
    "from sklearn.neighbors import KNeighborsClassifier\n",
    "knn_clf = KNeighborsClassifier(n_jobs = -1) \n",
    "knn_clf.fit(X_train, y_train)\n",
    "print('start making prediction') \n",
    "y_test_pred_knn = knn_clf.predict(X_test)\n",
    "print('start calculating accuracy score') \n",
    "from sklearn.metrics import accuracy_score  \n",
    "knn_accuracy = accuracy_score(y_test, y_test_pred_knn)\n",
    "print(\"KNN Model Accuracy: %.2f%%\" % (knn_accuracy * 100.0))\n",
    "# save the model to disk\n",
    "import pickle\n",
    "filename = '/Users/jiahuali1991/Dropbox/Machine Learning/Data/mnist/KNN_model_mnist.sav'\n",
    "pickle.dump(knn_clf, open(filename, 'wb'))\n",
    "print(\"--- %s seconds ---\" % (time.time() - start_time))\n",
    "now = datetime.now()\n",
    "current_time = now.strftime(\"%H:%M:%S\")\n",
    "print(\"End Time =\", current_time)"
   ]
  },
  {
   "cell_type": "code",
   "execution_count": 23,
   "metadata": {},
   "outputs": [
    {
     "name": "stdout",
     "output_type": "stream",
     "text": [
      "Start Time = 16:46:54\n",
      "start fitting Gaussian Naive Bayes Model\n",
      "start making prediction\n",
      "start calculating accuracy score\n",
      "Gaussian Naive Bayes Model Accuracy: 52.63%\n",
      "--- 6.246715784072876 seconds ---\n",
      "End Time = 16:47:00\n"
     ]
    }
   ],
   "source": [
    "# Naive Bayes on original data\n",
    "import time\n",
    "start_time = time.time()   \n",
    "from datetime import datetime\n",
    "now = datetime.now()\n",
    "current_time = now.strftime(\"%H:%M:%S\")\n",
    "print(\"Start Time =\", current_time)\n",
    "print('start fitting Gaussian Naive Bayes Model')    \n",
    "from sklearn.naive_bayes import GaussianNB\n",
    "gnb_clf = GaussianNB()\n",
    "gnb_clf.fit(X_train, y_train)\n",
    "print('start making prediction') \n",
    "y_test_pred_gnb = gnb_clf.predict(X_test)\n",
    "print('start calculating accuracy score') \n",
    "from sklearn.metrics import accuracy_score  \n",
    "gnb_accuracy = accuracy_score(y_test, y_test_pred_gnb)\n",
    "print(\"Gaussian Naive Bayes Model Accuracy: %.2f%%\" % (gnb_accuracy * 100.0))\n",
    "# save the model to disk\n",
    "import pickle\n",
    "filename = '/Users/jiahuali1991/Dropbox/Machine Learning/Data/mnist/NB_model_mnist.sav'\n",
    "pickle.dump(gnb_clf, open(filename, 'wb'))\n",
    "print(\"--- %s seconds ---\" % (time.time() - start_time))\n",
    "now = datetime.now()\n",
    "current_time = now.strftime(\"%H:%M:%S\")\n",
    "print(\"End Time =\", current_time)"
   ]
  },
  {
   "cell_type": "code",
   "execution_count": 16,
   "metadata": {},
   "outputs": [
    {
     "name": "stdout",
     "output_type": "stream",
     "text": [
      "Start Time = 11:16:31\n",
      "start fitting Logistic Regression Model\n"
     ]
    },
    {
     "name": "stderr",
     "output_type": "stream",
     "text": [
      "/opt/anaconda3/lib/python3.7/site-packages/sklearn/linear_model/logistic.py:432: FutureWarning: Default solver will be changed to 'lbfgs' in 0.22. Specify a solver to silence this warning.\n",
      "  FutureWarning)\n",
      "/opt/anaconda3/lib/python3.7/site-packages/sklearn/linear_model/logistic.py:469: FutureWarning: Default multi_class will be changed to 'auto' in 0.22. Specify the multi_class option to silence this warning.\n",
      "  \"this warning.\", FutureWarning)\n"
     ]
    },
    {
     "name": "stdout",
     "output_type": "stream",
     "text": [
      "start making prediction\n",
      "start calculating accuracy score\n",
      "Logistic Regression Model Accuracy: 91.14%\n",
      "--- 628.726331949234 seconds ---\n",
      "End Time = 11:26:59\n"
     ]
    }
   ],
   "source": [
    "# Logistic Regression on original data\n",
    "import time\n",
    "start_time = time.time()   \n",
    "from datetime import datetime\n",
    "now = datetime.now()\n",
    "current_time = now.strftime(\"%H:%M:%S\")\n",
    "print(\"Start Time =\", current_time)\n",
    "print('start fitting Logistic Regression Model')    \n",
    "from sklearn.linear_model import LogisticRegression\n",
    "lr_clf = LogisticRegression(random_state=0)\n",
    "lr_clf.fit(X_train, y_train)\n",
    "print('start making prediction') \n",
    "y_test_pred_lr = lr_clf.predict(X_test)\n",
    "print('start calculating accuracy score') \n",
    "from sklearn.metrics import accuracy_score  \n",
    "lr_accuracy = accuracy_score(y_test, y_test_pred_lr)\n",
    "print(\"Logistic Regression Model Accuracy: %.2f%%\" % (lr_accuracy * 100.0))\n",
    "# save the model to disk\n",
    "import pickle\n",
    "filename = '/Users/jiahuali1991/Dropbox/Machine Learning/Data/mnist/LR_model_mnist.sav'\n",
    "pickle.dump(lr_clf, open(filename, 'wb'))\n",
    "print(\"--- %s seconds ---\" % (time.time() - start_time))\n",
    "now = datetime.now()\n",
    "current_time = now.strftime(\"%H:%M:%S\")\n",
    "print(\"End Time =\", current_time)"
   ]
  },
  {
   "cell_type": "code",
   "execution_count": 17,
   "metadata": {},
   "outputs": [
    {
     "name": "stdout",
     "output_type": "stream",
     "text": [
      "Start Time = 11:26:59\n",
      "start fitting SGD Model\n",
      "start making prediction\n",
      "start calculating accuracy score\n",
      "SGD Model Accuracy: 90.26%\n",
      "--- 281.60627603530884 seconds ---\n",
      "End Time = 11:31:41\n"
     ]
    }
   ],
   "source": [
    "# SGD on original data\n",
    "import time\n",
    "start_time = time.time()   \n",
    "from datetime import datetime\n",
    "now = datetime.now()\n",
    "current_time = now.strftime(\"%H:%M:%S\")\n",
    "print(\"Start Time =\", current_time)\n",
    "print('start fitting SGD Model') \n",
    "from sklearn.linear_model import SGDClassifier\n",
    "sgd_clf = SGDClassifier()\n",
    "sgd_clf.fit(X_train, y_train)\n",
    "print('start making prediction') \n",
    "y_test_pred_sgd = sgd_clf.predict(X_test)\n",
    "print('start calculating accuracy score') \n",
    "from sklearn.metrics import accuracy_score  \n",
    "sgd_accuracy = accuracy_score(y_test, y_test_pred_sgd)\n",
    "print(\"SGD Model Accuracy: %.2f%%\" % (sgd_accuracy * 100.0))\n",
    "# save the model to disk\n",
    "import pickle\n",
    "filename = '/Users/jiahuali1991/Dropbox/Machine Learning/Data/mnist/SGD_model_mnist.sav'\n",
    "pickle.dump(sgd_clf, open(filename, 'wb'))\n",
    "print(\"--- %s seconds ---\" % (time.time() - start_time))\n",
    "now = datetime.now()\n",
    "current_time = now.strftime(\"%H:%M:%S\")\n",
    "print(\"End Time =\", current_time)"
   ]
  },
  {
   "cell_type": "code",
   "execution_count": 18,
   "metadata": {},
   "outputs": [
    {
     "name": "stdout",
     "output_type": "stream",
     "text": [
      "Start Time = 11:31:41\n",
      "start fitting Light GBM Model\n"
     ]
    },
    {
     "name": "stderr",
     "output_type": "stream",
     "text": [
      "/opt/anaconda3/lib/python3.7/site-packages/lightgbm/__init__.py:48: UserWarning: Starting from version 2.2.1, the library file in distribution wheels for macOS is built by the Apple Clang (Xcode_8.3.3) compiler.\n",
      "This means that in case of installing LightGBM from PyPI via the ``pip install lightgbm`` command, you don't need to install the gcc compiler anymore.\n",
      "Instead of that, you need to install the OpenMP library, which is required for running LightGBM on the system with the Apple Clang compiler.\n",
      "You can install the OpenMP library by the following command: ``brew install libomp``.\n",
      "  \"You can install the OpenMP library by the following command: ``brew install libomp``.\", UserWarning)\n"
     ]
    },
    {
     "name": "stdout",
     "output_type": "stream",
     "text": [
      "start making prediction\n",
      "start calculating accuracy score\n",
      "Light GBM Model Accuracy: 96.89%\n",
      "--- 168.84644770622253 seconds ---\n",
      "End Time = 11:34:30\n"
     ]
    }
   ],
   "source": [
    "# Light GBM on original data\n",
    "import time\n",
    "start_time = time.time()   \n",
    "from datetime import datetime\n",
    "now = datetime.now()\n",
    "current_time = now.strftime(\"%H:%M:%S\")\n",
    "print(\"Start Time =\", current_time)\n",
    "print('start fitting Light GBM Model') \n",
    "import lightgbm as lgb\n",
    "gbm = lgb.LGBMClassifier()\n",
    "gbm.fit(X_train, y_train)\n",
    "print('start making prediction') \n",
    "y_test_pred_gbm = gbm.predict(X_test)\n",
    "print('start calculating accuracy score') \n",
    "gbm_accuracy = accuracy_score(y_test, y_test_pred_gbm)\n",
    "print(\"Light GBM Model Accuracy: %.2f%%\" % (gbm_accuracy * 100.0))\n",
    "# save the model to disk\n",
    "import pickle\n",
    "filename = '/Users/jiahuali1991/Dropbox/Machine Learning/Data/mnist/LightGBM_model_mnist.sav'\n",
    "pickle.dump(gbm, open(filename, 'wb'))\n",
    "print(\"--- %s seconds ---\" % (time.time() - start_time))\n",
    "now = datetime.now()\n",
    "current_time = now.strftime(\"%H:%M:%S\")\n",
    "print(\"End Time =\", current_time)"
   ]
  },
  {
   "cell_type": "code",
   "execution_count": 19,
   "metadata": {},
   "outputs": [
    {
     "name": "stdout",
     "output_type": "stream",
     "text": [
      "Start Time = 11:34:30\n",
      "start fitting XGBoost Model\n",
      "start making prediction\n",
      "start calculating accuracy score\n",
      "XGBoost Model Accuracy: 93.41%\n",
      "--- 2240.834710121155 seconds ---\n",
      "End Time = 12:11:51\n"
     ]
    }
   ],
   "source": [
    "# XGBoost on original data\n",
    "import time\n",
    "start_time = time.time()   \n",
    "from datetime import datetime\n",
    "now = datetime.now()\n",
    "current_time = now.strftime(\"%H:%M:%S\")\n",
    "print(\"Start Time =\", current_time)\n",
    "print('start fitting XGBoost Model') \n",
    "from xgboost import XGBClassifier\n",
    "XGB_clf = XGBClassifier()\n",
    "XGB_clf.fit(X_train, y_train)\n",
    "print('start making prediction') \n",
    "y_test_pred_XGB = XGB_clf.predict(X_test)\n",
    "print('start calculating accuracy score') \n",
    "XGB_accuracy = accuracy_score(y_test, y_test_pred_XGB)\n",
    "print(\"XGBoost Model Accuracy: %.2f%%\" % (XGB_accuracy * 100.0))\n",
    "# save the model to disk\n",
    "import pickle\n",
    "filename = '/Users/jiahuali1991/Dropbox/Machine Learning/Data/mnist/XGBoost_model_mnist.sav'\n",
    "pickle.dump(XGB_clf, open(filename, 'wb'))\n",
    "print(\"--- %s seconds ---\" % (time.time() - start_time))\n",
    "now = datetime.now()\n",
    "current_time = now.strftime(\"%H:%M:%S\")\n",
    "print(\"End Time =\", current_time)"
   ]
  },
  {
   "cell_type": "code",
   "execution_count": 20,
   "metadata": {},
   "outputs": [
    {
     "name": "stdout",
     "output_type": "stream",
     "text": [
      "Start Time = 12:11:51\n",
      "start fitting CatBoost Model\n",
      "start making prediction\n",
      "start calculating accuracy score\n",
      "Cat Boost Model Accuracy: 96.77%\n",
      "--- 1885.4042880535126 seconds ---\n",
      "End Time = 12:43:16\n"
     ]
    }
   ],
   "source": [
    "# CatBoost on original data\n",
    "import time\n",
    "start_time = time.time()   \n",
    "from datetime import datetime\n",
    "now = datetime.now()\n",
    "current_time = now.strftime(\"%H:%M:%S\")\n",
    "print(\"Start Time =\", current_time)\n",
    "import time\n",
    "start_time = time.time() \n",
    "print('start fitting CatBoost Model') \n",
    "from catboost import CatBoostClassifier\n",
    "catb_clf = CatBoostClassifier()\n",
    "catb_clf.fit(X_train, y_train, verbose=0)\n",
    "print('start making prediction') \n",
    "y_test_pred_catb = catb_clf.predict(X_test)\n",
    "from sklearn.metrics import accuracy_score\n",
    "print('start calculating accuracy score') \n",
    "catb_accuracy = accuracy_score(y_test, y_test_pred_catb)\n",
    "print(\"Cat Boost Model Accuracy: %.2f%%\" % (catb_accuracy * 100.0))\n",
    "# save the model to disk\n",
    "import pickle\n",
    "filename = '/Users/jiahuali1991/Dropbox/Machine Learning/Data/mnist/CatBoost_model_mnist.sav'\n",
    "pickle.dump(catb_clf, open(filename, 'wb'))\n",
    "print(\"--- %s seconds ---\" % (time.time() - start_time))\n",
    "now = datetime.now()\n",
    "current_time = now.strftime(\"%H:%M:%S\")\n",
    "print(\"End Time =\", current_time)"
   ]
  },
  {
   "cell_type": "code",
   "execution_count": 21,
   "metadata": {},
   "outputs": [
    {
     "name": "stdout",
     "output_type": "stream",
     "text": [
      "Start Time = 12:43:16\n",
      "start fitting Support Vector Machine Model\n",
      "start making prediction\n",
      "start calculating accuracy score\n",
      "Support Vector Machine Model Accuracy: 19.27%\n",
      "--- 14589.99098277092 seconds ---\n",
      "End Time = 16:46:26\n"
     ]
    }
   ],
   "source": [
    "# Support Vector Machine on original data\n",
    "import time\n",
    "start_time = time.time()   \n",
    "from datetime import datetime\n",
    "now = datetime.now()\n",
    "current_time = now.strftime(\"%H:%M:%S\")\n",
    "print(\"Start Time =\", current_time)\n",
    "print('start fitting Support Vector Machine Model') \n",
    "from sklearn import svm\n",
    "svm_clf = svm.SVC(C=10000, cache_size=200, class_weight=None, coef0=0.0,\n",
    "    decision_function_shape='ovr', degree=3, gamma=0.1, kernel='rbf',\n",
    "    max_iter=-1, probability=False, random_state=None, shrinking=True,\n",
    "    tol=0.001, verbose=False)\n",
    "svm_clf.fit(X_train, y_train)\n",
    "print('start making prediction') \n",
    "y_test_pred_svm = svm_clf.predict(X_test)\n",
    "print('start calculating accuracy score') \n",
    "from sklearn.metrics import accuracy_score  \n",
    "svm_accuracy = accuracy_score(y_test, y_test_pred_svm)\n",
    "print(\"Support Vector Machine Model Accuracy: %.2f%%\" % (svm_accuracy * 100.0))\n",
    "# save the model to disk\n",
    "import pickle\n",
    "filename = '/Users/jiahuali1991/Dropbox/Machine Learning/Data/mnist/SVM_model_mnist.sav'\n",
    "pickle.dump(svm_clf, open(filename, 'wb'))\n",
    "print(\"--- %s seconds ---\" % (time.time() - start_time))\n",
    "now = datetime.now()\n",
    "current_time = now.strftime(\"%H:%M:%S\")\n",
    "print(\"End Time =\", current_time)"
   ]
  },
  {
   "cell_type": "code",
   "execution_count": 22,
   "metadata": {},
   "outputs": [
    {
     "name": "stdout",
     "output_type": "stream",
     "text": [
      "Start Time = 16:46:27\n",
      "start fitting AdaBoost Model\n",
      "start making prediction\n",
      "start calculating accuracy score\n",
      "AdaBoost Model Accuracy: 86.43%\n",
      "--- 26.83395004272461 seconds ---\n",
      "End Time = 16:46:54\n"
     ]
    }
   ],
   "source": [
    "# AdaBoost on original data\n",
    "import time\n",
    "start_time = time.time()   \n",
    "from datetime import datetime\n",
    "now = datetime.now()\n",
    "current_time = now.strftime(\"%H:%M:%S\")\n",
    "print(\"Start Time =\", current_time)\n",
    "print('start fitting AdaBoost Model') \n",
    "from sklearn.ensemble import AdaBoostClassifier\n",
    "from sklearn.tree import DecisionTreeClassifier\n",
    "ada_clf = AdaBoostClassifier(DecisionTreeClassifier(), n_estimators=200, algorithm='SAMME.R', learning_rate=0.5)\n",
    "ada_clf.fit(X_train, y_train)\n",
    "print('start making prediction') \n",
    "y_test_pred_ada = ada_clf.predict(X_test)\n",
    "print('start calculating accuracy score') \n",
    "from sklearn.metrics import accuracy_score  \n",
    "ada_accuracy = accuracy_score(y_test, y_test_pred_ada)\n",
    "print(\"AdaBoost Model Accuracy: %.2f%%\" % (ada_accuracy * 100.0))\n",
    "# save the model to disk\n",
    "import pickle\n",
    "filename = '/Users/jiahuali1991/Dropbox/Machine Learning/Data/mnist/AdaBoost_model_mnist.sav'\n",
    "pickle.dump(ada_clf, open(filename, 'wb'))\n",
    "print(\"--- %s seconds ---\" % (time.time() - start_time))\n",
    "now = datetime.now()\n",
    "current_time = now.strftime(\"%H:%M:%S\")\n",
    "print(\"End Time =\", current_time)"
   ]
  },
  {
   "cell_type": "code",
   "execution_count": null,
   "metadata": {},
   "outputs": [],
   "source": []
  }
 ],
 "metadata": {
  "kernelspec": {
   "display_name": "Python 3",
   "language": "python",
   "name": "python3"
  },
  "language_info": {
   "codemirror_mode": {
    "name": "ipython",
    "version": 3
   },
   "file_extension": ".py",
   "mimetype": "text/x-python",
   "name": "python",
   "nbconvert_exporter": "python",
   "pygments_lexer": "ipython3",
   "version": "3.8.3"
  }
 },
 "nbformat": 4,
 "nbformat_minor": 2
}
